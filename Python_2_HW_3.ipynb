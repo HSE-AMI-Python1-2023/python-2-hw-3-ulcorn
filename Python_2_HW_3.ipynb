{
  "nbformat": 4,
  "nbformat_minor": 0,
  "metadata": {
    "colab": {
      "provenance": []
    },
    "kernelspec": {
      "name": "python3",
      "display_name": "Python 3"
    },
    "language_info": {
      "name": "python"
    }
  },
  "cells": [
    {
      "cell_type": "markdown",
      "source": [
        "#Продвинутый Python, ДЗ-3\n",
        "\n",
        "Правила игры:\n",
        "\n",
        "В домашке 8 задач, разбаловка указана в задании. Суммарно за дз можно получить 100 баллов, что равняется 10 баллам\n",
        "\n",
        "Дедлайн - 7 дней после выдачи дз. Необходимо залить решеннный ноутбук в github и прислать ссылку в Anytask (без выполнения любого из пунктов работа проверяться не будет)\n",
        "\n",
        "В данной домашке нужно рисовать графики с помощью matplotlib или же seaborn. Обратите внимание, что все графики и оси должны быть подписаны, графики должны выглядеть аккуратно (за это будем штрафовать)"
      ],
      "metadata": {
        "id": "VGjVUCWufy7T"
      }
    },
    {
      "cell_type": "markdown",
      "source": [
        "## Данные"
      ],
      "metadata": {
        "id": "63di75_vqbTp"
      }
    },
    {
      "cell_type": "markdown",
      "source": [
        "В этом домашнем задании вам придется оказаться на месте аналитика в бразильском маркетплейсе [Olist](https://olist.com/pt-br/). Вам необходимо исследовать данные и на их основании сделать выводы, которые помогут бизнесу расцветать!\n",
        "\n",
        "Данные находятся тут в файле archive.zip"
      ],
      "metadata": {
        "id": "krcmq1NUqeCS"
      }
    },
    {
      "cell_type": "code",
      "source": [
        "!pip install wget"
      ],
      "metadata": {
        "id": "1zgX--Pqg5cm"
      },
      "execution_count": null,
      "outputs": []
    },
    {
      "cell_type": "code",
      "source": [
        "import pandas as pd\n",
        "import numpy as np\n",
        "import matplotlib.pyplot as plt\n",
        "import seaborn as sns\n",
        "import zipfile\n",
        "import wget\n",
        "\n",
        "url = 'https://github.com/Palladain/Deep_Python/raw/main/Homeworks/Homework_1/archive.zip'\n",
        "filename = wget.download(url)\n",
        "\n",
        "with zipfile.ZipFile(filename, 'r') as zip_ref:\n",
        "    zip_ref.extractall('./')\n",
        "\n",
        "customers = pd.read_csv('olist_customers_dataset.csv')\n",
        "location = pd.read_csv('olist_geolocation_dataset.csv')\n",
        "items = pd.read_csv('olist_order_items_dataset.csv')\n",
        "payments = pd.read_csv('olist_order_payments_dataset.csv')\n",
        "reviews = pd.read_csv('olist_order_reviews_dataset.csv')\n",
        "orders = pd.read_csv('olist_orders_dataset.csv')\n",
        "products = pd.read_csv('olist_products_dataset.csv')\n",
        "translation = pd.read_csv('product_category_name_translation.csv')\n",
        "sellers = pd.read_csv('olist_sellers_dataset.csv')"
      ],
      "metadata": {
        "id": "ItTnixKIrtHQ"
      },
      "execution_count": 2,
      "outputs": []
    },
    {
      "cell_type": "markdown",
      "source": [
        "Ван дано 9 датасетов, которые содержат в себе все данные по 100 000 заказам со всей Бразилии. Чтобы облегчить вам жизнь, вот связи по этим датасетам (файл product_category_name_translation является переводом названий категорий с португальского на английский)"
      ],
      "metadata": {
        "id": "LLos28bYrbR2"
      }
    },
    {
      "cell_type": "markdown",
      "source": [
        "![](https://i.imgur.com/HRhd2Y0.png)"
      ],
      "metadata": {
        "id": "lXXie4hQrdhI"
      }
    },
    {
      "cell_type": "markdown",
      "source": [
        "Ну что же, начнем!"
      ],
      "metadata": {
        "id": "4pUMuhE1rWhb"
      }
    },
    {
      "cell_type": "markdown",
      "source": [
        "## Задание 1 (20 баллов)"
      ],
      "metadata": {
        "id": "GRXOhnd7hEur"
      }
    },
    {
      "cell_type": "markdown",
      "source": [
        "Визуализируйте зависимость между средним числом покупок товара и:\n",
        "\n",
        "* числом фотографий товара\n",
        "\n",
        "* кол-во символов в описании товара (аггрегируйте с шагом 20)\n",
        "\n",
        "* кол-во символов в названии (аггрегируйте с шагом 5)\n",
        "\n",
        "Для подсчета среднего числа покупок нужно посчитать по каждому товару число продаж, а затем взять среднее от него (учтите, что мы считаем только доставленные заказы)"
      ],
      "metadata": {
        "id": "G8g-shuVhoAc"
      }
    },
    {
      "cell_type": "markdown",
      "source": [
        "## Задание 2 (10 баллов)"
      ],
      "metadata": {
        "id": "a-XzjuAmhHDE"
      }
    },
    {
      "cell_type": "markdown",
      "source": [
        "Отобразите среднюю сумму оплаты по типу оплаты (для этого вам нужна табличка payments)"
      ],
      "metadata": {
        "id": "_px8R9HWlfA4"
      }
    },
    {
      "cell_type": "markdown",
      "source": [
        "## Задание 3 (25 баллов)"
      ],
      "metadata": {
        "id": "0gBoDAKWhJ0A"
      }
    },
    {
      "cell_type": "markdown",
      "source": [
        "Обратите внимание на число платежей (payment_installments). Выясните, какая сумма оплаты указана: за целую покупку или только за ее часть? (Обратите внимание, что в данных есть определенная бага, которую нужно расследовать и учесть)\n",
        "\n",
        "Также покажите средний чек в зависимости от числа оплат. Есть ли какая-то связь между ними?"
      ],
      "metadata": {
        "id": "EaX2ap4kl6U0"
      }
    },
    {
      "cell_type": "markdown",
      "source": [
        "## Задание 4 (15 баллов)"
      ],
      "metadata": {
        "id": "O2YlIG0HhL_h"
      }
    },
    {
      "cell_type": "markdown",
      "source": [
        "Визуализируйте зависимость между ценой заказа и ценой доставки по штатам покупки. Есть ли какая-нибудь зависимость и как вы можете ее обосновать?"
      ],
      "metadata": {
        "id": "cxVS5Q9xmtCS"
      }
    },
    {
      "cell_type": "markdown",
      "source": [
        "## Задание 5 (15 баллов)"
      ],
      "metadata": {
        "id": "dnZzb-TAhNeD"
      }
    },
    {
      "cell_type": "markdown",
      "source": [
        "Отобразите распределение оценок для заказов, которые были доставлены вовремя и которые пришли с опозданием. Насколько влияет факт опоздания на оценку? (оценки берутся из таблицы reviews)"
      ],
      "metadata": {
        "id": "ZAFLlD3bmtuW"
      }
    },
    {
      "cell_type": "markdown",
      "source": [
        "## Задание 6 (15 баллов)"
      ],
      "metadata": {
        "id": "l6UcENVNhOXh"
      }
    },
    {
      "cell_type": "markdown",
      "source": [
        "Изобразите зависимость между ценой заказа и числом дней между покупкой и доставкой с разбивкой по признаку \"есть заказ из другого штата\". Есть ли зависимость?"
      ],
      "metadata": {
        "id": "heZL5xSXnLC4"
      }
    }
  ]
}