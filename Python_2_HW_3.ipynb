{
 "cells": [
  {
   "cell_type": "markdown",
   "metadata": {
    "id": "VGjVUCWufy7T"
   },
   "source": [
    "#Продвинутый Python, ДЗ-3\n",
    "\n",
    "Правила игры:\n",
    "\n",
    "В домашке 8 задач, разбаловка указана в задании. Суммарно за дз можно получить 100 баллов, что равняется 10 баллам\n",
    "\n",
    "Дедлайн - 7 дней после выдачи дз. Необходимо залить решеннный ноутбук в github и прислать ссылку в Anytask (без выполнения любого из пунктов работа проверяться не будет)\n",
    "\n",
    "В данной домашке нужно рисовать графики с помощью matplotlib или же seaborn. Обратите внимание, что все графики и оси должны быть подписаны, графики должны выглядеть аккуратно (за это будем штрафовать)"
   ]
  },
  {
   "cell_type": "markdown",
   "metadata": {
    "id": "63di75_vqbTp"
   },
   "source": [
    "## Данные"
   ]
  },
  {
   "cell_type": "markdown",
   "metadata": {
    "id": "krcmq1NUqeCS"
   },
   "source": [
    "В этом домашнем задании вам придется оказаться на месте аналитика в бразильском маркетплейсе [Olist](https://olist.com/pt-br/). Вам необходимо исследовать данные и на их основании сделать выводы, которые помогут бизнесу расцветать!\n",
    "\n",
    "Данные находятся тут в файле archive.zip"
   ]
  },
  {
   "cell_type": "code",
   "execution_count": null,
   "metadata": {
    "id": "1zgX--Pqg5cm"
   },
   "outputs": [],
   "source": [
    "!pip install wget"
   ]
  },
  {
   "cell_type": "code",
   "execution_count": 3,
   "metadata": {
    "id": "ItTnixKIrtHQ"
   },
   "outputs": [
    {
     "ename": "ModuleNotFoundError",
     "evalue": "No module named 'wget'",
     "output_type": "error",
     "traceback": [
      "\u001B[0;31m---------------------------------------------------------------------------\u001B[0m",
      "\u001B[0;31mModuleNotFoundError\u001B[0m                       Traceback (most recent call last)",
      "Cell \u001B[0;32mIn[3], line 6\u001B[0m\n\u001B[1;32m      4\u001B[0m \u001B[38;5;28;01mimport\u001B[39;00m \u001B[38;5;21;01mseaborn\u001B[39;00m \u001B[38;5;28;01mas\u001B[39;00m \u001B[38;5;21;01msns\u001B[39;00m\n\u001B[1;32m      5\u001B[0m \u001B[38;5;28;01mimport\u001B[39;00m \u001B[38;5;21;01mzipfile\u001B[39;00m\n\u001B[0;32m----> 6\u001B[0m \u001B[38;5;28;01mimport\u001B[39;00m \u001B[38;5;21;01mwget\u001B[39;00m\n\u001B[1;32m      8\u001B[0m url \u001B[38;5;241m=\u001B[39m \u001B[38;5;124m'\u001B[39m\u001B[38;5;124mhttps://github.com/Palladain/Deep_Python/raw/main/Homeworks/Homework_1/archive.zip\u001B[39m\u001B[38;5;124m'\u001B[39m\n\u001B[1;32m      9\u001B[0m filename \u001B[38;5;241m=\u001B[39m wget\u001B[38;5;241m.\u001B[39mdownload(url)\n",
      "\u001B[0;31mModuleNotFoundError\u001B[0m: No module named 'wget'"
     ]
    }
   ],
   "source": [
    "import pandas as pd\n",
    "import numpy as np\n",
    "import matplotlib.pyplot as plt\n",
    "import seaborn as sns\n",
    "import zipfile\n",
    "import wget\n",
    "\n",
    "url = 'https://github.com/Palladain/Deep_Python/raw/main/Homeworks/Homework_1/archive.zip'\n",
    "filename = wget.download(url)\n",
    "\n",
    "with zipfile.ZipFile(filename, 'r') as zip_ref:\n",
    "    zip_ref.extractall('./')\n",
    "\n",
    "customers = pd.read_csv('olist_customers_dataset.csv')\n",
    "location = pd.read_csv('olist_geolocation_dataset.csv')\n",
    "items = pd.read_csv('olist_order_items_dataset.csv')\n",
    "payments = pd.read_csv('olist_order_payments_dataset.csv')\n",
    "reviews = pd.read_csv('olist_order_reviews_dataset.csv')\n",
    "orders = pd.read_csv('olist_orders_dataset.csv')\n",
    "products = pd.read_csv('olist_products_dataset.csv')\n",
    "translation = pd.read_csv('product_category_name_translation.csv')\n",
    "sellers = pd.read_csv('olist_sellers_dataset.csv')\n",
    "\n",
    "\n",
    "\n",
    "# Первое Задание\n",
    "\n",
    "delivered_orders = orders[orders['order_status'] == 'delivered']\n",
    "merged_data = delivered_orders.merge(items, on='order_id')\n",
    "\n",
    "product_purchase_count = merged_data['product_id'].value_counts().reset_index()\n",
    "product_purchase_count.columns = ['product_id', 'purchase_count']\n",
    "\n",
    "merged_products = product_purchase_count.merge(products, on='product_id')\n",
    "\n",
    "fig, axs = plt.subplots(3, 1, figsize=(14, 18))\n",
    "# по количеству фотографий\n",
    "sns.barplot(x='product_photos_qty', y='purchase_count', data=merged_products, ax=axs[0], estimator=np.mean,\n",
    "            errorbar=None)\n",
    "axs[0].set_title('Зависимость между средним числом покупок товара и числом фотографий товара')\n",
    "axs[0].set_xlabel('Число фотографий товара')\n",
    "axs[0].set_ylabel('Среднее число покупок')\n",
    "\n",
    "# по описанию\n",
    "merged_products['description_length_grouped'] = (merged_products[\n",
    "                                                     'product_description_lenght'] // 20) * 20  # группируем по 20\n",
    "sns.barplot(x='description_length_grouped', y='purchase_count', data=merged_products, ax=axs[1], estimator=np.mean,\n",
    "            errorbar=None)\n",
    "axs[1].set_title('Зависимость между средним числом покупок товара и длинной описания')\n",
    "axs[1].set_xlabel('Количество символов в описании(с шагом 20)')\n",
    "axs[1].set_ylabel('Среднее число покупок')\n",
    "\n",
    "# по имени\n",
    "merged_products['name_length_grouped'] = (merged_products['product_name_lenght'] // 5) * 5  # группируем по 5\n",
    "sns.barplot(x='name_length_grouped', y='purchase_count', data=merged_products, ax=axs[2], estimator=np.mean,\n",
    "            errorbar=None)\n",
    "axs[2].set_title('Зависимость между средним числом покупок товара и кол-вом символов в названии')\n",
    "axs[2].set_xlabel('Количество символов в названии товара')\n",
    "axs[2].set_ylabel('Среднее число покупок')\n",
    "\n",
    "plt.tight_layout()\n",
    "plt.show()\n",
    "\n",
    "# 2 Задание\n",
    "# Убираю not defined\n",
    "f_payments = payments[\n",
    "    (payments['payment_type'] != 'not_defined') &\n",
    "    (payments['payment_value'] > 0)\n",
    "    ]\n",
    "\n",
    "m_payment = f_payments.groupby('payment_type')['payment_value'].mean()\n",
    "\n",
    "plt.figure(figsize=(12, 6))\n",
    "sns.barplot(x=m_payment.index, y=m_payment.values,\n",
    "            hue=m_payment.index, palette=\"viridis\", legend=False)\n",
    "plt.title('Средняя сумма оплаты по типу оплаты (без \"not defined\" и нулевых значений)')\n",
    "plt.xlabel('Тип оплаты')\n",
    "plt.ylabel('Средняя сумма оплаты')\n",
    "plt.grid(axis='y', linestyle='--', alpha=0.7)\n",
    "plt.tight_layout()\n",
    "\n",
    "plt.show()\n",
    "\n",
    "# 3 задание\n",
    "order_payment_counts = payments.groupby('order_id').size().reset_index(name='num_payments')\n",
    "\n",
    "# Больше одной оплаты\n",
    "multiple_payments = order_payment_counts[order_payment_counts['num_payments'] > 1]\n",
    "\n",
    "multiple_payments_details = payments[payments['order_id'].isin(multiple_payments['order_id'])]\n",
    "\n",
    "total_payment_order = multiple_payments_details.groupby('order_id')['payment_value'].sum().reset_index()\n",
    "# total_payment_order.head()\n",
    "\n",
    "merged_payments = pd.merge(multiple_payments_details, total_payment_order, on='order_id', suffixes=('_individual',\n",
    "                                                                                                    '_total'))\n",
    "\n",
    "avg_payment_per_installment = payments.groupby('payment_installments')['payment_value'].mean().reset_index()\n",
    "\n",
    "# График\n",
    "plt.figure(figsize=(12, 6))\n",
    "sns.barplot(data=avg_payment_per_installment, x='payment_installments', y='payment_value')\n",
    "plt.title('Зависимость среднего чека от числа оплат')\n",
    "plt.xlabel('Число оплат')\n",
    "plt.ylabel('Средний чек')\n",
    "plt.xticks(rotation=45)\n",
    "plt.grid(axis='y', linestyle='--', alpha=0.7)\n",
    "plt.tight_layout()\n",
    "plt.show()\n",
    "\n",
    "\n"
   ]
  },
  {
   "cell_type": "markdown",
   "metadata": {
    "id": "LLos28bYrbR2"
   },
   "source": [
    "Ван дано 9 датасетов, которые содержат в себе все данные по 100 000 заказам со всей Бразилии. Чтобы облегчить вам жизнь, вот связи по этим датасетам (файл product_category_name_translation является переводом названий категорий с португальского на английский)"
   ]
  },
  {
   "cell_type": "markdown",
   "metadata": {
    "id": "lXXie4hQrdhI"
   },
   "source": [
    "![](https://i.imgur.com/HRhd2Y0.png)"
   ]
  },
  {
   "cell_type": "markdown",
   "metadata": {
    "id": "4pUMuhE1rWhb"
   },
   "source": [
    "Ну что же, начнем!"
   ]
  },
  {
   "cell_type": "markdown",
   "metadata": {
    "id": "GRXOhnd7hEur"
   },
   "source": [
    "## Задание 1 (20 баллов)"
   ]
  },
  {
   "cell_type": "markdown",
   "metadata": {
    "id": "G8g-shuVhoAc"
   },
   "source": [
    "Визуализируйте зависимость между средним числом покупок товара и:\n",
    "\n",
    "* числом фотографий товара\n",
    "\n",
    "* кол-во символов в описании товара (аггрегируйте с шагом 20)\n",
    "\n",
    "* кол-во символов в названии (аггрегируйте с шагом 5)\n",
    "\n",
    "Для подсчета среднего числа покупок нужно посчитать по каждому товару число продаж, а затем взять среднее от него (учтите, что мы считаем только доставленные заказы)"
   ]
  },
  {
   "cell_type": "markdown",
   "metadata": {
    "id": "a-XzjuAmhHDE"
   },
   "source": [
    "## Задание 2 (10 баллов)"
   ]
  },
  {
   "cell_type": "markdown",
   "metadata": {
    "id": "_px8R9HWlfA4"
   },
   "source": [
    "Отобразите среднюю сумму оплаты по типу оплаты (для этого вам нужна табличка payments)"
   ]
  },
  {
   "cell_type": "markdown",
   "metadata": {
    "id": "0gBoDAKWhJ0A"
   },
   "source": [
    "## Задание 3 (25 баллов)"
   ]
  },
  {
   "cell_type": "markdown",
   "metadata": {
    "id": "EaX2ap4kl6U0"
   },
   "source": [
    "Обратите внимание на число платежей (payment_installments). Выясните, какая сумма оплаты указана: за целую покупку или только за ее часть? (Обратите внимание, что в данных есть определенная бага, которую нужно расследовать и учесть)\n",
    "\n",
    "Также покажите средний чек в зависимости от числа оплат. Есть ли какая-то связь между ними?"
   ]
  },
  {
   "cell_type": "markdown",
   "metadata": {
    "id": "O2YlIG0HhL_h"
   },
   "source": [
    "## Задание 4 (15 баллов)"
   ]
  },
  {
   "cell_type": "markdown",
   "metadata": {
    "id": "cxVS5Q9xmtCS"
   },
   "source": [
    "Визуализируйте зависимость между ценой заказа и ценой доставки по штатам покупки. Есть ли какая-нибудь зависимость и как вы можете ее обосновать?"
   ]
  },
  {
   "cell_type": "markdown",
   "metadata": {
    "id": "dnZzb-TAhNeD"
   },
   "source": [
    "## Задание 5 (15 баллов)"
   ]
  },
  {
   "cell_type": "markdown",
   "metadata": {
    "id": "ZAFLlD3bmtuW"
   },
   "source": [
    "Отобразите распределение оценок для заказов, которые были доставлены вовремя и которые пришли с опозданием. Насколько влияет факт опоздания на оценку? (оценки берутся из таблицы reviews)"
   ]
  },
  {
   "cell_type": "markdown",
   "metadata": {
    "id": "l6UcENVNhOXh"
   },
   "source": [
    "## Задание 6 (15 баллов)"
   ]
  },
  {
   "cell_type": "markdown",
   "metadata": {
    "id": "heZL5xSXnLC4"
   },
   "source": [
    "Изобразите зависимость между ценой заказа и числом дней между покупкой и доставкой с разбивкой по признаку \"есть заказ из другого штата\". Есть ли зависимость?"
   ]
  }
 ],
 "metadata": {
  "colab": {
   "provenance": []
  },
  "kernelspec": {
   "display_name": "Python 3 (ipykernel)",
   "language": "python",
   "name": "python3"
  },
  "language_info": {
   "codemirror_mode": {
    "name": "ipython",
    "version": 3
   },
   "file_extension": ".py",
   "mimetype": "text/x-python",
   "name": "python",
   "nbconvert_exporter": "python",
   "pygments_lexer": "ipython3",
   "version": "3.11.5"
  }
 },
 "nbformat": 4,
 "nbformat_minor": 1
}
